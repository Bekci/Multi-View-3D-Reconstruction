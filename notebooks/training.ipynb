{
 "cells": [
  {
   "cell_type": "markdown",
   "metadata": {},
   "source": [
    "This notebook trains our models by running the script file. All inputs are arranged in a way that it can work in Kaggle environment. See README.md or controller.py script arguments. "
   ]
  },
  {
   "cell_type": "code",
   "execution_count": 1,
   "metadata": {
    "execution": {
     "iopub.execute_input": "2022-08-02T16:36:51.629380Z",
     "iopub.status.busy": "2022-08-02T16:36:51.628831Z",
     "iopub.status.idle": "2022-08-02T16:36:52.616375Z",
     "shell.execute_reply": "2022-08-02T16:36:52.614471Z"
    },
    "papermill": {
     "duration": 0.995595,
     "end_time": "2022-08-02T16:36:52.620328",
     "exception": false,
     "start_time": "2022-08-02T16:36:51.624733",
     "status": "completed"
    },
    "tags": []
   },
   "outputs": [],
   "source": [
    "!mkdir 'checkpoint'"
   ]
  },
  {
   "cell_type": "code",
   "execution_count": 2,
   "metadata": {
    "execution": {
     "iopub.execute_input": "2022-08-02T16:36:52.628088Z",
     "iopub.status.busy": "2022-08-02T16:36:52.626872Z",
     "iopub.status.idle": "2022-08-02T17:02:04.446346Z",
     "shell.execute_reply": "2022-08-02T17:02:04.445058Z"
    },
    "papermill": {
     "duration": 1511.825918,
     "end_time": "2022-08-02T17:02:04.448983",
     "exception": false,
     "start_time": "2022-08-02T16:36:52.623065",
     "status": "completed"
    },
    "tags": []
   },
   "outputs": [
    {
     "name": "stdout",
     "output_type": "stream",
     "text": [
      "Loading data\r\n",
      "40 ['airplane', 'bathtub', 'bed', 'bench', 'bookshelf', 'bottle', 'bowl', 'car', 'chair', 'cone', 'cup', 'curtain', 'desk', 'door', 'dresser', 'flower_pot', 'glass_box', 'guitar', 'keyboard', 'lamp', 'laptop', 'mantel', 'monitor', 'night_stand', 'person', 'piano', 'plant', 'radio', 'range_hood', 'sink', 'sofa', 'stairs', 'stool', 'table', 'tent', 'toilet', 'tv_stand', 'vase', 'wardrobe', 'xbox']\r\n",
      "Downloading: \"https://download.pytorch.org/models/resnet18-5c106cde.pth\" to /root/.cache/torch/hub/checkpoints/resnet18-5c106cde.pth\r\n",
      "100%|██████████████████████████████████████| 44.7M/44.7M [00:03<00:00, 13.4MB/s]\r\n",
      "Using resnet18 Attention:  False View Dropout:  0.0 Reconstruction: True\r\n",
      "Running on cuda:0\r\n",
      "2022-08-02 16:37:30.322121: I tensorflow/stream_executor/cuda/cuda_gpu_executor.cc:937] successful NUMA node read from SysFS had negative value (-1), but there must be at least one NUMA node, so returning NUMA node zero\r\n",
      "2022-08-02 16:37:30.323173: I tensorflow/stream_executor/cuda/cuda_gpu_executor.cc:937] successful NUMA node read from SysFS had negative value (-1), but there must be at least one NUMA node, so returning NUMA node zero\r\n",
      "2022-08-02 16:37:30.323932: I tensorflow/stream_executor/cuda/cuda_gpu_executor.cc:937] successful NUMA node read from SysFS had negative value (-1), but there must be at least one NUMA node, so returning NUMA node zero\r\n",
      "2022-08-02 16:37:30.324806: I tensorflow/core/platform/cpu_feature_guard.cc:142] This TensorFlow binary is optimized with oneAPI Deep Neural Network Library (oneDNN) to use the following CPU instructions in performance-critical operations:  AVX2 AVX512F FMA\r\n",
      "To enable them in other operations, rebuild TensorFlow with the appropriate compiler flags.\r\n",
      "2022-08-02 16:37:30.325116: I tensorflow/stream_executor/cuda/cuda_gpu_executor.cc:937] successful NUMA node read from SysFS had negative value (-1), but there must be at least one NUMA node, so returning NUMA node zero\r\n",
      "2022-08-02 16:37:30.326179: I tensorflow/stream_executor/cuda/cuda_gpu_executor.cc:937] successful NUMA node read from SysFS had negative value (-1), but there must be at least one NUMA node, so returning NUMA node zero\r\n",
      "2022-08-02 16:37:30.327189: I tensorflow/stream_executor/cuda/cuda_gpu_executor.cc:937] successful NUMA node read from SysFS had negative value (-1), but there must be at least one NUMA node, so returning NUMA node zero\r\n",
      "2022-08-02 16:37:30.329685: I tensorflow/stream_executor/cuda/cuda_gpu_executor.cc:937] successful NUMA node read from SysFS had negative value (-1), but there must be at least one NUMA node, so returning NUMA node zero\r\n",
      "2022-08-02 16:37:30.330442: I tensorflow/stream_executor/cuda/cuda_gpu_executor.cc:937] successful NUMA node read from SysFS had negative value (-1), but there must be at least one NUMA node, so returning NUMA node zero\r\n",
      "2022-08-02 16:37:30.331178: I tensorflow/stream_executor/cuda/cuda_gpu_executor.cc:937] successful NUMA node read from SysFS had negative value (-1), but there must be at least one NUMA node, so returning NUMA node zero\r\n",
      "2022-08-02 16:37:30.331828: I tensorflow/core/common_runtime/gpu/gpu_device.cc:1510] Created device /job:localhost/replica:0/task:0/device:GPU:0 with 14979 MB memory:  -> device: 0, name: Tesla P100-PCIE-16GB, pci bus id: 0000:00:04.0, compute capability: 6.0\r\n",
      "use nll loss\r\n",
      "\r\n",
      "-----------------------------------\r\n",
      "Epoch: [1/5]\r\n",
      "\tIter [50/2380] Loss: 0.0276\r\n",
      "\tIter [100/2380] Loss: 0.0286\r\n",
      "\tIter [150/2380] Loss: 0.0118\r\n",
      "\tIter [200/2380] Loss: 0.0013\r\n",
      "\tIter [250/2380] Loss: 0.0053\r\n",
      "\tIter [300/2380] Loss: 0.0068\r\n",
      "\tIter [350/2380] Loss: 0.0050\r\n",
      "\tIter [400/2380] Loss: 0.0070\r\n",
      "\tIter [450/2380] Loss: 0.0073\r\n",
      "\tIter [500/2380] Loss: 0.0043\r\n",
      "\tIter [550/2380] Loss: 0.0056\r\n",
      "\tIter [600/2380] Loss: 0.0095\r\n",
      "\tIter [650/2380] Loss: 0.0043\r\n",
      "\tIter [700/2380] Loss: 0.0069\r\n",
      "\tIter [750/2380] Loss: 0.0268\r\n",
      "\tIter [800/2380] Loss: 0.0054\r\n",
      "\tIter [850/2380] Loss: 0.0114\r\n",
      "\tIter [900/2380] Loss: 0.0174\r\n",
      "\tIter [950/2380] Loss: 0.0012\r\n",
      "\tIter [1000/2380] Loss: 0.0058\r\n",
      "\tIter [1050/2380] Loss: 0.0022\r\n",
      "\tIter [1100/2380] Loss: 0.0021\r\n",
      "\tIter [1150/2380] Loss: 0.0030\r\n",
      "\tIter [1200/2380] Loss: 0.0104\r\n",
      "\tIter [1250/2380] Loss: 0.0278\r\n",
      "\tIter [1300/2380] Loss: 0.0106\r\n",
      "\tIter [1350/2380] Loss: 0.0090\r\n",
      "\tIter [1400/2380] Loss: 0.0123\r\n",
      "\tIter [1450/2380] Loss: 0.0051\r\n",
      "\tIter [1500/2380] Loss: 0.0007\r\n",
      "\tIter [1550/2380] Loss: 0.0059\r\n",
      "\tIter [1600/2380] Loss: 0.0160\r\n",
      "\tIter [1650/2380] Loss: 0.0059\r\n",
      "\tIter [1700/2380] Loss: 0.0040\r\n",
      "\tIter [1750/2380] Loss: 0.0093\r\n",
      "\tIter [1800/2380] Loss: 0.0020\r\n",
      "\tIter [1850/2380] Loss: 0.0029\r\n",
      "\tIter [1900/2380] Loss: 0.0050\r\n",
      "\tIter [1950/2380] Loss: 0.0091\r\n",
      "\tIter [2000/2380] Loss: 0.0058\r\n",
      "\tIter [2050/2380] Loss: 0.0051\r\n",
      "\tIter [2100/2380] Loss: 0.0114\r\n",
      "\tIter [2150/2380] Loss: 0.0055\r\n",
      "\tIter [2200/2380] Loss: 0.0097\r\n",
      "\tIter [2250/2380] Loss: 0.0043\r\n",
      "\tIter [2300/2380] Loss: 0.0049\r\n",
      "\tIter [2350/2380] Loss: 0.0011\r\n",
      "Time taken: 1469.74 sec.\r\n",
      "Traceback (most recent call last):\r\n",
      "  File \"../input/rbirkelandmvcnnadopted/MVCNN-PyTorch/controller.py\", line 267, in <module>\r\n",
      "    avg_iou, avg_loss = eval(val_loader)\r\n",
      "  File \"../input/rbirkelandmvcnnadopted/MVCNN-PyTorch/controller.py\", line 217, in eval\r\n",
      "    iou = calc_mean_IOU(torch.exp(outputs).detach().cpu().numpy(), voxels.cpu().numpy(), 0.4)[5]\r\n",
      "  File \"../input/rbirkelandmvcnnadopted/MVCNN-PyTorch/controller.py\", line 161, in calc_mean_IOU\r\n",
      "    pred_s = np.squeeze(pred, axis=1)\r\n",
      "  File \"<__array_function__ internals>\", line 6, in squeeze\r\n",
      "  File \"/opt/conda/lib/python3.7/site-packages/numpy/core/fromnumeric.py\", line 1508, in squeeze\r\n",
      "    return squeeze(axis=axis)\r\n",
      "ValueError: cannot select an axis to squeeze out which has size not equal to one\r\n"
     ]
    }
   ],
   "source": [
    "!python '../input/rbirkelandmvcnnadopted/MVCNN-PyTorch/controller.py'\\\n",
    "'../input/modelnetdataset/shaded_images/modelnet40_images_new_12x' \\\n",
    "'../input/modelnetindexedvoxels/model_net_voxel_indices' \\\n",
    "--print-freq 50 \\\n",
    "--pretrained \\\n",
    "--epochs 5 \\\n",
    "--reconstruction"
   ]
  },
  {
   "cell_type": "code",
   "execution_count": null,
   "metadata": {
    "papermill": {
     "duration": 0.005516,
     "end_time": "2022-08-02T17:02:04.460894",
     "exception": false,
     "start_time": "2022-08-02T17:02:04.455378",
     "status": "completed"
    },
    "tags": []
   },
   "outputs": [],
   "source": []
  }
 ],
 "metadata": {
  "kernelspec": {
   "display_name": "Python 3",
   "language": "python",
   "name": "python3"
  },
  "language_info": {
   "codemirror_mode": {
    "name": "ipython",
    "version": 3
   },
   "file_extension": ".py",
   "mimetype": "text/x-python",
   "name": "python",
   "nbconvert_exporter": "python",
   "pygments_lexer": "ipython3",
   "version": "3.6.6"
  },
  "papermill": {
   "default_parameters": {},
   "duration": 1521.778472,
   "end_time": "2022-08-02T17:02:04.989104",
   "environment_variables": {},
   "exception": null,
   "input_path": "__notebook__.ipynb",
   "output_path": "__notebook__.ipynb",
   "parameters": {},
   "start_time": "2022-08-02T16:36:43.210632",
   "version": "2.3.4"
  }
 },
 "nbformat": 4,
 "nbformat_minor": 5
}
